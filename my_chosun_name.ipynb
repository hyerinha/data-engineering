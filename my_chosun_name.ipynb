{
 "cells": [
  {
   "cell_type": "code",
   "execution_count": 1,
   "id": "42df9a7c",
   "metadata": {},
   "outputs": [
    {
     "data": {
      "text/plain": [
       "['쌍', '쇠', '복', '돌', '팽', '육', '쌍', '개', '칠', '갑', '삼', '방']"
      ]
     },
     "execution_count": 1,
     "metadata": {},
     "output_type": "execute_result"
    }
   ],
   "source": [
    "months = ['쌍', '쇠', '복', '돌', '팽', '육', '쌍', '개', '칠', '갑', '삼', '방']\n",
    "months"
   ]
  },
  {
   "cell_type": "code",
   "execution_count": 2,
   "id": "76a17cd8",
   "metadata": {},
   "outputs": [
    {
     "data": {
      "text/plain": [
       "['봉',\n",
       " '구',\n",
       " '욕',\n",
       " '포',\n",
       " '똥',\n",
       " '삼',\n",
       " '식',\n",
       " '석',\n",
       " '놈',\n",
       " '님',\n",
       " '년',\n",
       " '돌',\n",
       " '단',\n",
       " '득',\n",
       " '방',\n",
       " '질',\n",
       " '장',\n",
       " '걸',\n",
       " '래',\n",
       " '룡',\n",
       " '동',\n",
       " '순',\n",
       " '자',\n",
       " '박',\n",
       " '창',\n",
       " '언',\n",
       " '것',\n",
       " '포',\n",
       " '만',\n",
       " '단',\n",
       " '국']"
      ]
     },
     "execution_count": 2,
     "metadata": {},
     "output_type": "execute_result"
    }
   ],
   "source": [
    "days = ['봉', '구', '욕', '포', '똥', '삼', '식', '석', '놈', '님', '년', '돌', '단', '득', '방', '질', '장', '걸', '래', '룡', '동', '순', '자', '박', '창', '언', '것', '포', '만', '단', '국']\n",
    "days"
   ]
  },
  {
   "cell_type": "code",
   "execution_count": 3,
   "id": "e78c6623",
   "metadata": {},
   "outputs": [],
   "source": [
    "def get_my_chosun_name(family_name, month, day):\n",
    "    print(\"당신의 조선시대 이름은\", family_name + months[month-1] + days[day-1]+\" 입니다.\")"
   ]
  },
  {
   "cell_type": "code",
   "execution_count": 4,
   "id": "1a51fdc0",
   "metadata": {},
   "outputs": [
    {
     "name": "stdout",
     "output_type": "stream",
     "text": [
      "당신의 조선시대 이름은 하육동 입니다.\n"
     ]
    }
   ],
   "source": [
    "get_my_chosun_name('하', 6, 21)"
   ]
  },
  {
   "cell_type": "code",
   "execution_count": null,
   "id": "72b730cd",
   "metadata": {},
   "outputs": [],
   "source": []
  }
 ],
 "metadata": {
  "kernelspec": {
   "display_name": "Python 3 (ipykernel)",
   "language": "python",
   "name": "python3"
  },
  "language_info": {
   "codemirror_mode": {
    "name": "ipython",
    "version": 3
   },
   "file_extension": ".py",
   "mimetype": "text/x-python",
   "name": "python",
   "nbconvert_exporter": "python",
   "pygments_lexer": "ipython3",
   "version": "3.7.0"
  }
 },
 "nbformat": 4,
 "nbformat_minor": 5
}
